{
 "cells": [
  {
   "cell_type": "code",
   "execution_count": 183,
   "metadata": {},
   "outputs": [],
   "source": [
    "import matplotlib.pyplot as plt\n",
    "import numpy as np\n",
    "from sklearn import linear_model, metrics\n",
    "from sklearn.preprocessing import PolynomialFeatures\n",
    "from sklearn.pipeline import make_pipeline"
   ]
  },
  {
   "cell_type": "code",
   "execution_count": null,
   "metadata": {},
   "outputs": [],
   "source": [
    "np.random.seed(0)\n",
    "num_al_samples = 5\n",
    "epsilon = 800"
   ]
  },
  {
   "cell_type": "code",
   "execution_count": 279,
   "metadata": {},
   "outputs": [],
   "source": [
    "def random_al(X):\n",
    "    return np.random.choice(X.shape[0],num_al_samples, replace = False)\n",
    "\n",
    "def first_al(X):\n",
    "    return np.arange(0,num_al_samples)"
   ]
  },
  {
   "cell_type": "code",
   "execution_count": 318,
   "metadata": {},
   "outputs": [],
   "source": [
    "def create_dataset():\n",
    "    # Create a sample dataset\n",
    "    X = np.expand_dims(np.sort(np.random.randint(0,100,size=(30))), axis = 1)\n",
    "    Y = X**2 + np.random.uniform(-epsilon, epsilon, size = X.shape)\n",
    "    return X,Y\n",
    "\n",
    "def create_split(X,Y, al_alg):\n",
    "    # split into train to get AL samples\n",
    "    train_indices = al_alg(X)\n",
    "    \n",
    "    test_indices = np.setdiff1d(np.arange(X.shape[0]) ,train_indices)\n",
    "    X_train, Y_train = X[train_indices], Y[train_indices]\n",
    "    X_test, Y_test = X[test_indices], Y[test_indices]\n",
    "    return X_train, Y_train, X_test, Y_test"
   ]
  },
  {
   "cell_type": "code",
   "execution_count": 281,
   "metadata": {},
   "outputs": [],
   "source": [
    "def get_preds(X_train, Y_train, X_test):\n",
    "    # Create linear regression object\n",
    "    linear = linear_model.LinearRegression()\n",
    "    quad = make_pipeline(PolynomialFeatures(2), linear_model.Ridge())\n",
    "\n",
    "    # Set toy one\n",
    "    linear.coef_ = np.array([[1.0]])\n",
    "    linear.intercept_ = [3]\n",
    "\n",
    "    # Make predictions using the testing set\n",
    "    Y_pred_0 = linear.predict(X_test)\n",
    "    # Make predictions using the testing set\n",
    "    quad.fit(X_train,Y_train)\n",
    "    Y_pred_quad = quad.predict(X_test)\n",
    "\n",
    "    linear.fit(X_train,Y_train)\n",
    "    Y_pred_linear = linear.predict(X_test)\n",
    "    \n",
    "    return Y_pred_0, Y_pred_linear, Y_pred_quad"
   ]
  },
  {
   "cell_type": "code",
   "execution_count": 282,
   "metadata": {},
   "outputs": [],
   "source": [
    "def plot_preds(X_train, Y_train, X_test, Y_test, Y_pred, title):\n",
    "    # Plot outputs\n",
    "    plt.scatter(X_train, Y_train,  color='red', label = 'AL samples')\n",
    "    plt.scatter(X_test, Y_test,  color='black', label = 'ground truth')\n",
    "    plt.plot(X_test, Y_pred, color='blue', label = 'prediction')\n",
    "    score = round(metrics.r2_score(Y_test, Y_pred),2)\n",
    "    plt.legend()\n",
    "    plt.title(title + ' : R^2 : {}'.format(score), fontsize=20)"
   ]
  },
  {
   "cell_type": "code",
   "execution_count": 334,
   "metadata": {},
   "outputs": [],
   "source": [
    "X,Y = create_dataset()"
   ]
  },
  {
   "cell_type": "code",
   "execution_count": 357,
   "metadata": {},
   "outputs": [
    {
     "data": {
      "text/plain": [
       "(0.9831448224603236, 0.7911559206541892)"
      ]
     },
     "execution_count": 357,
     "metadata": {},
     "output_type": "execute_result"
    }
   ],
   "source": [
    "np.random.seed(14893)\n",
    "#np.random.seed(69158)\n",
    "X_train, Y_train, X_test, Y_test = create_split(X,Y,random_al)\n",
    "Y_pred_0, Y_pred_linear, Y_pred_quad = get_preds(X_train, Y_train, X_test)\n",
    "metrics.r2_score(Y_test, Y_pred_quad), metrics.r2_score(Y_test, Y_pred_linear)"
   ]
  },
  {
   "cell_type": "code",
   "execution_count": 338,
   "metadata": {},
   "outputs": [],
   "source": [
    "quads, lins = {}, {}\n",
    "for i in (np.random.randint(100000, size = 20)):\n",
    "    np.random.seed(i)\n",
    "    X_train, Y_train, X_test, Y_test = create_split(X,Y,random_al)\n",
    "    Y_pred_0, Y_pred_linear, Y_pred_quad = get_preds(X_train, Y_train, X_test)\n",
    "    quad_score = metrics.r2_score(Y_test, Y_pred_quad)\n",
    "    lin_score = metrics.r2_score(Y_test, Y_pred_linear)\n",
    "    quads[i] = quad_score\n",
    "    lins[i] = lin_score"
   ]
  },
  {
   "cell_type": "code",
   "execution_count": 346,
   "metadata": {},
   "outputs": [
    {
     "data": {
      "text/plain": [
       "{95920: 0.9572373102779221,\n",
       " 84568: 0.9655150298421395,\n",
       " 46586: 0.9692181134174414,\n",
       " 14893: 0.9831448224603236,\n",
       " 69279: 0.9876918606057743,\n",
       " 23655: 0.962733554174892,\n",
       " 70876: 0.9663535353381179,\n",
       " 16215: 0.9847154520839284,\n",
       " 69158: 0.9415512492327556,\n",
       " 57336: 0.8708467043706205,\n",
       " 34263: 0.9749589993689621,\n",
       " 46173: 0.971849315579057,\n",
       " 16627: 0.9734608590388998,\n",
       " 11172: 0.9869170335063092,\n",
       " 26103: 0.9774028933239675,\n",
       " 33025: 0.9746972590960785,\n",
       " 13111: 0.9808392562088966,\n",
       " 4067: 0.9655168483045125,\n",
       " 41470: 0.9268601597579627,\n",
       " 97415: 0.9662158609959719}"
      ]
     },
     "execution_count": 346,
     "metadata": {},
     "output_type": "execute_result"
    }
   ],
   "source": [
    "quads"
   ]
  },
  {
   "cell_type": "code",
   "execution_count": 344,
   "metadata": {},
   "outputs": [
    {
     "name": "stdout",
     "output_type": "stream",
     "text": [
      "L 0 1 0.01 0.01\n",
      "L 0 3 0.03 0.05\n",
      "L 0 6 0.01 0.09\n",
      "Q 0 8 0.02 0.06\n",
      "L 0 15 0.02 0.05\n",
      "L 0 19 0.01 0.06\n",
      "L 1 3 0.02 0.04\n",
      "Q 1 5 0.0 0.03\n",
      "L 1 6 0.0 0.08\n",
      "Q 1 8 0.02 0.07\n",
      "L 1 15 0.01 0.05\n",
      "L 1 19 0.0 0.05\n",
      "L 2 3 0.01 0.08\n",
      "Q 2 8 0.03 0.03\n",
      "L 2 10 0.01 0.02\n",
      "L 2 12 0.0 0.03\n",
      "L 2 13 0.02 0.02\n",
      "L 2 15 0.01 0.09\n",
      "Q 2 17 0.0 0.02\n",
      "Q 3 5 0.02 0.07\n",
      "Q 3 8 0.04 0.11\n",
      "Q 3 9 0.11 0.01\n",
      "Q 3 10 0.01 0.06\n",
      "Q 3 11 0.01 0.14\n",
      "Q 3 12 0.01 0.05\n",
      "Q 3 14 0.01 0.11\n",
      "Q 3 16 0.0 0.11\n",
      "Q 3 17 0.02 0.1\n",
      "Q 3 18 0.06 0.02\n",
      "Q 4 11 0.02 0.02\n",
      "L 5 6 0.0 0.11\n",
      "Q 5 8 0.02 0.04\n",
      "L 5 10 0.01 0.01\n",
      "L 5 12 0.01 0.02\n",
      "L 5 13 0.02 0.01\n",
      "L 5 15 0.01 0.08\n",
      "L 5 19 0.0 0.08\n",
      "Q 6 8 0.02 0.15\n",
      "Q 6 9 0.1 0.05\n",
      "Q 6 17 0.0 0.14\n",
      "Q 6 18 0.04 0.06\n",
      "Q 6 19 0.0 0.03\n",
      "Q 7 8 0.04 0.0\n",
      "Q 7 11 0.01 0.03\n",
      "L 7 13 0.0 0.05\n",
      "Q 7 14 0.01 0.0\n",
      "Q 7 16 0.0 0.0\n",
      "L 8 10 0.03 0.05\n",
      "L 8 12 0.03 0.06\n",
      "L 8 13 0.05 0.05\n",
      "L 8 15 0.03 0.11\n",
      "L 8 17 0.02 0.01\n",
      "L 8 19 0.02 0.12\n",
      "L 9 15 0.1 0.01\n",
      "L 9 19 0.1 0.02\n",
      "Q 10 11 0.0 0.07\n",
      "L 10 13 0.01 0.0\n",
      "Q 10 17 0.01 0.04\n",
      "L 11 12 0.0 0.08\n",
      "L 11 13 0.02 0.08\n",
      "L 11 14 0.01 0.02\n",
      "L 11 15 0.0 0.14\n",
      "L 11 16 0.01 0.02\n",
      "L 12 15 0.0 0.05\n",
      "Q 12 17 0.01 0.05\n",
      "Q 13 14 0.01 0.05\n",
      "Q 13 16 0.01 0.05\n",
      "Q 13 17 0.02 0.04\n",
      "Q 15 17 0.01 0.1\n",
      "Q 15 18 0.05 0.02\n",
      "L 17 19 0.0 0.11\n",
      "L 18 19 0.04 0.03\n"
     ]
    }
   ],
   "source": [
    "q_vals = list(quads.values())\n",
    "l_vals = list(lins.values())\n",
    "for i in range(len(quads)):\n",
    "    for j in range(i, len(quads)):\n",
    "        q_diff = (q_vals[i] - q_vals[j])\n",
    "        l_diff = (l_vals[i] - l_vals[j])\n",
    "        if q_diff > 0 and l_diff < 0:\n",
    "            print('Q',i,j, round(abs(q_diff),2), round(abs(l_diff),2))\n",
    "        elif q_diff <0 and l_diff >0:\n",
    "            print('L',i,j, round(abs(q_diff),2), round(abs(l_diff),2))"
   ]
  },
  {
   "cell_type": "code",
   "execution_count": 354,
   "metadata": {},
   "outputs": [
    {
     "data": {
      "image/png": "[encoded data removed]",
      "text/plain": [
       "<Figure size 432x288 with 1 Axes>"
      ]
     },
     "metadata": {
      "needs_background": "light"
     },
     "output_type": "display_data"
    }
   ],
   "source": [
    "plot_preds(X_train,Y_train, X_test,Y_test, Y_pred_0, 'Initial (Untrained)')"
   ]
  },
  {
   "cell_type": "code",
   "execution_count": 358,
   "metadata": {},
   "outputs": [
    {
     "data": {
      "image/png": "[encoded data removed]",
      "text/plain": [
       "<Figure size 432x288 with 1 Axes>"
      ]
     },
     "metadata": {
      "needs_background": "light"
     },
     "output_type": "display_data"
    }
   ],
   "source": [
    "plot_preds(X_train,Y_train, X_test,Y_test, Y_pred_linear, 'Linear')"
   ]
  },
  {
   "cell_type": "code",
   "execution_count": 359,
   "metadata": {},
   "outputs": [
    {
     "data": {
      "image/png": "[encoded data removed]",
      "text/plain": [
       "<Figure size 432x288 with 1 Axes>"
      ]
     },
     "metadata": {
      "needs_background": "light"
     },
     "output_type": "display_data"
    }
   ],
   "source": [
    "plot_preds(X_train,Y_train, X_test,Y_test, Y_pred_quad, 'Quadratic')"
   ]
  },
  {
   "cell_type": "code",
   "execution_count": null,
   "metadata": {},
   "outputs": [],
   "source": []
  }
 ],
 "metadata": {
  "kernelspec": {
   "display_name": "Python 3",
   "language": "python",
   "name": "python3"
  },
  "language_info": {
   "codemirror_mode": {
    "name": "ipython",
    "version": 3
   },
   "file_extension": ".py",
   "mimetype": "text/x-python",
   "name": "python",
   "nbconvert_exporter": "python",
   "pygments_lexer": "ipython3",
   "version": "3.7.3"
  }
 },
 "nbformat": 4,
 "nbformat_minor": 2
}
